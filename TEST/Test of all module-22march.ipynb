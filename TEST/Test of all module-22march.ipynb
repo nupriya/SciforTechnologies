{
 "cells": [
  {
   "cell_type": "markdown",
   "id": "fc99e6f1",
   "metadata": {},
   "source": [
    "# The questions of tests below \n",
    "\n"
   ]
  },
  {
   "cell_type": "markdown",
   "id": "07f50b37",
   "metadata": {},
   "source": [
    " ### Explain Hybrid Inheritance with Code."
   ]
  },
  {
   "cell_type": "code",
   "execution_count": 1,
   "id": "7891d931",
   "metadata": {},
   "outputs": [
    {
     "name": "stdout",
     "output_type": "stream",
     "text": [
      "Method A from class A\n",
      "Method B from class B\n",
      "Method C from class C\n",
      "Method D from class D\n",
      "Method E from class E\n"
     ]
    }
   ],
   "source": [
    "class A:\n",
    "    def method_A(self):\n",
    "        print(\"Method A from class A\")\n",
    "\n",
    "class B:\n",
    "    def method_B(self):\n",
    "        print(\"Method B from class B\")\n",
    "\n",
    "class C(A):\n",
    "    def method_C(self):\n",
    "        print(\"Method C from class C\")\n",
    "\n",
    "class D(B):\n",
    "    def method_D(self):\n",
    "        print(\"Method D from class D\")\n",
    "\n",
    "class E(C, D):\n",
    "    def method_E(self):\n",
    "        print(\"Method E from class E\")\n",
    "\n",
    "obj_E = E()\n",
    "obj_E.method_A()\n",
    "obj_E.method_B()\n",
    "obj_E.method_C()\n",
    "obj_E.method_D()\n",
    "obj_E.method_E()\n"
   ]
  },
  {
   "cell_type": "code",
   "execution_count": null,
   "id": "8aa6a38e",
   "metadata": {},
   "outputs": [],
   "source": []
  }
 ],
 "metadata": {
  "kernelspec": {
   "display_name": "Python 3 (ipykernel)",
   "language": "python",
   "name": "python3"
  },
  "language_info": {
   "codemirror_mode": {
    "name": "ipython",
    "version": 3
   },
   "file_extension": ".py",
   "mimetype": "text/x-python",
   "name": "python",
   "nbconvert_exporter": "python",
   "pygments_lexer": "ipython3",
   "version": "3.9.12"
  }
 },
 "nbformat": 4,
 "nbformat_minor": 5
}
